{
 "cells": [
  {
   "cell_type": "markdown",
   "metadata": {},
   "source": [
    "## Final Project Submission\n",
    "\n",
    "Please fill out:\n",
    "* Student name: Stephen Turk\n",
    "* Student pace: Part time\n",
    "* Scheduled project review date/time: 11:00am - 12:00pm March 24, 2020 \n",
    "* Instructor name: Victor Geislinger \n",
    "* Blog post URL:\n"
   ]
  },
  {
   "cell_type": "code",
   "execution_count": 248,
   "metadata": {},
   "outputs": [],
   "source": [
    "# Imports that are necessary for the notebook\n",
    "import pandas as pd\n",
    "import seaborn as sns\n",
    "import matplotlib.pyplot as plt\n",
    "%matplotlib inline\n",
    "import numpy as np"
   ]
  },
  {
   "cell_type": "markdown",
   "metadata": {},
   "source": [
    "Beginning this project the first step was to find a focus for where to advice the stakeholders, Microsoft, with their move into the film industry. The important questions as I saw it were:\n",
    "\n",
    "**1. Where to enter the market? (In box office vs streaming, domestic vs international)**\n",
    "\n",
    "**2. At what financial level to enter the market? (large vs. small budget)**\n",
    "\n",
    "**3. How to enter the market? (what genre show the biggest returns for the smallest investment?)**\n",
    "\n",
    "\n",
    "After answering these questions it would be possible to give Microsoft stakeholders the best picture of where they should direct funds for entering into the content creation for film industry."
   ]
  },
  {
   "cell_type": "markdown",
   "metadata": {},
   "source": [
    "**Question 1: Where to enter the market?**\n",
    "\n",
    "\n",
    "How is the film industry doing? Outside of the obvious impact of Corona Virus, how is the film industry doing?\n",
    "To address this question I used a data set from The Numbers film data website. This dataset included total domestic box office and, importantly, inflation adjusted box office for the past 25 years."
   ]
  },
  {
   "cell_type": "code",
   "execution_count": 363,
   "metadata": {},
   "outputs": [],
   "source": [
    "yearly_rev_df = pd.read_csv('yearly_revenue_w_inflation.csv')"
   ]
  },
  {
   "cell_type": "code",
   "execution_count": 365,
   "metadata": {},
   "outputs": [
    {
     "data": {
      "text/html": [
       "<div>\n",
       "<style scoped>\n",
       "    .dataframe tbody tr th:only-of-type {\n",
       "        vertical-align: middle;\n",
       "    }\n",
       "\n",
       "    .dataframe tbody tr th {\n",
       "        vertical-align: top;\n",
       "    }\n",
       "\n",
       "    .dataframe thead th {\n",
       "        text-align: right;\n",
       "    }\n",
       "</style>\n",
       "<table border=\"1\" class=\"dataframe\">\n",
       "  <thead>\n",
       "    <tr style=\"text-align: right;\">\n",
       "      <th></th>\n",
       "      <th>Unnamed: 0</th>\n",
       "      <th>Unnamed: 1</th>\n",
       "      <th>Unnamed: 2</th>\n",
       "      <th>Unnamed: 3</th>\n",
       "      <th>Unnamed: 4</th>\n",
       "      <th>Unnamed: 5</th>\n",
       "      <th>Unnamed: 6</th>\n",
       "    </tr>\n",
       "  </thead>\n",
       "  <tbody>\n",
       "    <tr>\n",
       "      <td>0</td>\n",
       "      <td>NaN</td>\n",
       "      <td>Year</td>\n",
       "      <td>Tickets Sold</td>\n",
       "      <td>Total Box Office</td>\n",
       "      <td>Total Inflation\\nAdjusted Box Office</td>\n",
       "      <td>Average\\nTicket Price</td>\n",
       "      <td>NaN</td>\n",
       "    </tr>\n",
       "    <tr>\n",
       "      <td>1</td>\n",
       "      <td>NaN</td>\n",
       "      <td>2020</td>\n",
       "      <td>985,155,965</td>\n",
       "      <td>$8,974,770,845</td>\n",
       "      <td>$8,974,770,845</td>\n",
       "      <td>$9.11</td>\n",
       "      <td>NaN</td>\n",
       "    </tr>\n",
       "    <tr>\n",
       "      <td>2</td>\n",
       "      <td>NaN</td>\n",
       "      <td>2019</td>\n",
       "      <td>1,246,269,158</td>\n",
       "      <td>$11,353,514,827</td>\n",
       "      <td>$11,353,514,915</td>\n",
       "      <td>$9.11</td>\n",
       "      <td>NaN</td>\n",
       "    </tr>\n",
       "    <tr>\n",
       "      <td>3</td>\n",
       "      <td>NaN</td>\n",
       "      <td>2018</td>\n",
       "      <td>1,311,323,188</td>\n",
       "      <td>$11,946,156,764</td>\n",
       "      <td>$11,946,156,943</td>\n",
       "      <td>$9.11</td>\n",
       "      <td>NaN</td>\n",
       "    </tr>\n",
       "    <tr>\n",
       "      <td>4</td>\n",
       "      <td>NaN</td>\n",
       "      <td>2017</td>\n",
       "      <td>1,225,639,438</td>\n",
       "      <td>$10,993,988,560</td>\n",
       "      <td>$11,165,575,309</td>\n",
       "      <td>$8.97</td>\n",
       "      <td>NaN</td>\n",
       "    </tr>\n",
       "  </tbody>\n",
       "</table>\n",
       "</div>"
      ],
      "text/plain": [
       "   Unnamed: 0 Unnamed: 1     Unnamed: 2        Unnamed: 3  \\\n",
       "0         NaN       Year   Tickets Sold  Total Box Office   \n",
       "1         NaN       2020    985,155,965    $8,974,770,845   \n",
       "2         NaN       2019  1,246,269,158   $11,353,514,827   \n",
       "3         NaN       2018  1,311,323,188   $11,946,156,764   \n",
       "4         NaN       2017  1,225,639,438   $10,993,988,560   \n",
       "\n",
       "                             Unnamed: 4             Unnamed: 5  Unnamed: 6  \n",
       "0  Total Inflation\\nAdjusted Box Office  Average\\nTicket Price         NaN  \n",
       "1                        $8,974,770,845                  $9.11         NaN  \n",
       "2                       $11,353,514,915                  $9.11         NaN  \n",
       "3                       $11,946,156,943                  $9.11         NaN  \n",
       "4                       $11,165,575,309                  $8.97         NaN  "
      ]
     },
     "execution_count": 365,
     "metadata": {},
     "output_type": "execute_result"
    }
   ],
   "source": [
    "yearly_rev_df.head() #This data has many things we need, but is a bit ugly."
   ]
  },
  {
   "cell_type": "code",
   "execution_count": 366,
   "metadata": {},
   "outputs": [],
   "source": [
    "yearly_rev_df.columns = yearly_rev_df.iloc[0] #assigning the first row as the columns"
   ]
  },
  {
   "cell_type": "code",
   "execution_count": 367,
   "metadata": {},
   "outputs": [],
   "source": [
    "yearly_rev_df = yearly_rev_df.dropna(axis=1) #dropping NaN columns"
   ]
  },
  {
   "cell_type": "code",
   "execution_count": 368,
   "metadata": {},
   "outputs": [],
   "source": [
    "yearly_rev_df = yearly_rev_df.drop([0]) #dropping duplicate first row"
   ]
  },
  {
   "cell_type": "code",
   "execution_count": 369,
   "metadata": {},
   "outputs": [],
   "source": [
    "yearly_rev_df = yearly_rev_df.drop([1]) #dropping 2020 because it's financial info is incomplete"
   ]
  },
  {
   "cell_type": "code",
   "execution_count": 370,
   "metadata": {
    "scrolled": false
   },
   "outputs": [
    {
     "data": {
      "text/html": [
       "<div>\n",
       "<style scoped>\n",
       "    .dataframe tbody tr th:only-of-type {\n",
       "        vertical-align: middle;\n",
       "    }\n",
       "\n",
       "    .dataframe tbody tr th {\n",
       "        vertical-align: top;\n",
       "    }\n",
       "\n",
       "    .dataframe thead th {\n",
       "        text-align: right;\n",
       "    }\n",
       "</style>\n",
       "<table border=\"1\" class=\"dataframe\">\n",
       "  <thead>\n",
       "    <tr style=\"text-align: right;\">\n",
       "      <th></th>\n",
       "      <th>Year</th>\n",
       "      <th>Tickets Sold</th>\n",
       "      <th>Total Box Office</th>\n",
       "      <th>Total Inflation\\nAdjusted Box Office</th>\n",
       "      <th>Average\\nTicket Price</th>\n",
       "    </tr>\n",
       "  </thead>\n",
       "  <tbody>\n",
       "    <tr>\n",
       "      <td>2</td>\n",
       "      <td>2019</td>\n",
       "      <td>1,246,269,158</td>\n",
       "      <td>$11,353,514,827</td>\n",
       "      <td>$11,353,514,915</td>\n",
       "      <td>$9.11</td>\n",
       "    </tr>\n",
       "    <tr>\n",
       "      <td>3</td>\n",
       "      <td>2018</td>\n",
       "      <td>1,311,323,188</td>\n",
       "      <td>$11,946,156,764</td>\n",
       "      <td>$11,946,156,943</td>\n",
       "      <td>$9.11</td>\n",
       "    </tr>\n",
       "    <tr>\n",
       "      <td>4</td>\n",
       "      <td>2017</td>\n",
       "      <td>1,225,639,438</td>\n",
       "      <td>$10,993,988,560</td>\n",
       "      <td>$11,165,575,309</td>\n",
       "      <td>$8.97</td>\n",
       "    </tr>\n",
       "    <tr>\n",
       "      <td>5</td>\n",
       "      <td>2016</td>\n",
       "      <td>1,301,658,904</td>\n",
       "      <td>$11,259,352,764</td>\n",
       "      <td>$11,858,112,611</td>\n",
       "      <td>$8.65</td>\n",
       "    </tr>\n",
       "    <tr>\n",
       "      <td>6</td>\n",
       "      <td>2015</td>\n",
       "      <td>1,323,266,320</td>\n",
       "      <td>$11,155,138,079</td>\n",
       "      <td>$12,054,956,180</td>\n",
       "      <td>$8.43</td>\n",
       "    </tr>\n",
       "  </tbody>\n",
       "</table>\n",
       "</div>"
      ],
      "text/plain": [
       "0  Year   Tickets Sold Total Box Office Total Inflation\\nAdjusted Box Office  \\\n",
       "2  2019  1,246,269,158  $11,353,514,827                      $11,353,514,915   \n",
       "3  2018  1,311,323,188  $11,946,156,764                      $11,946,156,943   \n",
       "4  2017  1,225,639,438  $10,993,988,560                      $11,165,575,309   \n",
       "5  2016  1,301,658,904  $11,259,352,764                      $11,858,112,611   \n",
       "6  2015  1,323,266,320  $11,155,138,079                      $12,054,956,180   \n",
       "\n",
       "0 Average\\nTicket Price  \n",
       "2                 $9.11  \n",
       "3                 $9.11  \n",
       "4                 $8.97  \n",
       "5                 $8.65  \n",
       "6                 $8.43  "
      ]
     },
     "execution_count": 370,
     "metadata": {},
     "output_type": "execute_result"
    }
   ],
   "source": [
    "yearly_rev_df.head() # much better"
   ]
  },
  {
   "cell_type": "code",
   "execution_count": 373,
   "metadata": {},
   "outputs": [
    {
     "name": "stdout",
     "output_type": "stream",
     "text": [
      "<class 'pandas.core.frame.DataFrame'>\n",
      "Int64Index: 25 entries, 2 to 26\n",
      "Data columns (total 5 columns):\n",
      "Year                                   25 non-null object\n",
      "Tickets Sold                           25 non-null object\n",
      "Total Box Office                       25 non-null object\n",
      "Total Inflation\n",
      "Adjusted Box Office    25 non-null object\n",
      "Average\n",
      "Ticket Price                   25 non-null object\n",
      "dtypes: object(5)\n",
      "memory usage: 1.2+ KB\n"
     ]
    }
   ],
   "source": [
    "yearly_rev_df.info() #Oops!, None of our data is in the right format! We need int or float."
   ]
  },
  {
   "cell_type": "code",
   "execution_count": 374,
   "metadata": {},
   "outputs": [],
   "source": [
    "yearly_rev_df[yearly_rev_df.columns[0:]] = yearly_rev_df[yearly_rev_df.columns[0:]].apply(lambda x: x.str.replace('$','')).apply(lambda x: x.str.replace(',','')).astype(np.float64)\n",
    "#using lambda expression to strip all '$' and ',' from financial numbers."
   ]
  },
  {
   "cell_type": "code",
   "execution_count": 376,
   "metadata": {},
   "outputs": [
    {
     "data": {
      "text/html": [
       "<div>\n",
       "<style scoped>\n",
       "    .dataframe tbody tr th:only-of-type {\n",
       "        vertical-align: middle;\n",
       "    }\n",
       "\n",
       "    .dataframe tbody tr th {\n",
       "        vertical-align: top;\n",
       "    }\n",
       "\n",
       "    .dataframe thead th {\n",
       "        text-align: right;\n",
       "    }\n",
       "</style>\n",
       "<table border=\"1\" class=\"dataframe\">\n",
       "  <thead>\n",
       "    <tr style=\"text-align: right;\">\n",
       "      <th></th>\n",
       "      <th>Year</th>\n",
       "      <th>Tickets Sold</th>\n",
       "      <th>Total Box Office</th>\n",
       "      <th>Total Inflation\\nAdjusted Box Office</th>\n",
       "      <th>Average\\nTicket Price</th>\n",
       "    </tr>\n",
       "  </thead>\n",
       "  <tbody>\n",
       "    <tr>\n",
       "      <td>2</td>\n",
       "      <td>2019.0</td>\n",
       "      <td>1.246269e+09</td>\n",
       "      <td>1.135351e+10</td>\n",
       "      <td>1.135351e+10</td>\n",
       "      <td>9.11</td>\n",
       "    </tr>\n",
       "    <tr>\n",
       "      <td>3</td>\n",
       "      <td>2018.0</td>\n",
       "      <td>1.311323e+09</td>\n",
       "      <td>1.194616e+10</td>\n",
       "      <td>1.194616e+10</td>\n",
       "      <td>9.11</td>\n",
       "    </tr>\n",
       "    <tr>\n",
       "      <td>4</td>\n",
       "      <td>2017.0</td>\n",
       "      <td>1.225639e+09</td>\n",
       "      <td>1.099399e+10</td>\n",
       "      <td>1.116558e+10</td>\n",
       "      <td>8.97</td>\n",
       "    </tr>\n",
       "  </tbody>\n",
       "</table>\n",
       "</div>"
      ],
      "text/plain": [
       "0    Year  Tickets Sold  Total Box Office  \\\n",
       "2  2019.0  1.246269e+09      1.135351e+10   \n",
       "3  2018.0  1.311323e+09      1.194616e+10   \n",
       "4  2017.0  1.225639e+09      1.099399e+10   \n",
       "\n",
       "0  Total Inflation\\nAdjusted Box Office  Average\\nTicket Price  \n",
       "2                          1.135351e+10                   9.11  \n",
       "3                          1.194616e+10                   9.11  \n",
       "4                          1.116558e+10                   8.97  "
      ]
     },
     "execution_count": 376,
     "metadata": {},
     "output_type": "execute_result"
    }
   ],
   "source": [
    "yearly_rev_df.head(3) # Looking good. Note: most of these floats could be int instead, but for graphing purposes this is largely irrelevant."
   ]
  },
  {
   "cell_type": "code",
   "execution_count": 377,
   "metadata": {},
   "outputs": [],
   "source": [
    "yearly_rev_df.rename(columns = {'Total Inflation\\nAdjusted Box Office':'Inflation Adjusted Box Office'}, inplace = True) #Making a few column names more legible"
   ]
  },
  {
   "cell_type": "code",
   "execution_count": 378,
   "metadata": {},
   "outputs": [],
   "source": [
    "yearly_rev_df.rename(columns = {'Average\\nTicket Price':'Average Ticket Price'}, inplace = True) #Great, now ready to graph."
   ]
  },
  {
   "cell_type": "code",
   "execution_count": 379,
   "metadata": {
    "scrolled": true
   },
   "outputs": [
    {
     "data": {
      "text/html": [
       "<div>\n",
       "<style scoped>\n",
       "    .dataframe tbody tr th:only-of-type {\n",
       "        vertical-align: middle;\n",
       "    }\n",
       "\n",
       "    .dataframe tbody tr th {\n",
       "        vertical-align: top;\n",
       "    }\n",
       "\n",
       "    .dataframe thead th {\n",
       "        text-align: right;\n",
       "    }\n",
       "</style>\n",
       "<table border=\"1\" class=\"dataframe\">\n",
       "  <thead>\n",
       "    <tr style=\"text-align: right;\">\n",
       "      <th></th>\n",
       "      <th>Year</th>\n",
       "      <th>Tickets Sold</th>\n",
       "      <th>Total Box Office</th>\n",
       "      <th>Inflation Adjusted Box Office</th>\n",
       "      <th>Average Ticket Price</th>\n",
       "    </tr>\n",
       "  </thead>\n",
       "  <tbody>\n",
       "    <tr>\n",
       "      <td>2</td>\n",
       "      <td>2019.0</td>\n",
       "      <td>1.246269e+09</td>\n",
       "      <td>1.135351e+10</td>\n",
       "      <td>1.135351e+10</td>\n",
       "      <td>9.11</td>\n",
       "    </tr>\n",
       "    <tr>\n",
       "      <td>3</td>\n",
       "      <td>2018.0</td>\n",
       "      <td>1.311323e+09</td>\n",
       "      <td>1.194616e+10</td>\n",
       "      <td>1.194616e+10</td>\n",
       "      <td>9.11</td>\n",
       "    </tr>\n",
       "    <tr>\n",
       "      <td>4</td>\n",
       "      <td>2017.0</td>\n",
       "      <td>1.225639e+09</td>\n",
       "      <td>1.099399e+10</td>\n",
       "      <td>1.116558e+10</td>\n",
       "      <td>8.97</td>\n",
       "    </tr>\n",
       "  </tbody>\n",
       "</table>\n",
       "</div>"
      ],
      "text/plain": [
       "0    Year  Tickets Sold  Total Box Office  Inflation Adjusted Box Office  \\\n",
       "2  2019.0  1.246269e+09      1.135351e+10                   1.135351e+10   \n",
       "3  2018.0  1.311323e+09      1.194616e+10                   1.194616e+10   \n",
       "4  2017.0  1.225639e+09      1.099399e+10                   1.116558e+10   \n",
       "\n",
       "0  Average Ticket Price  \n",
       "2                  9.11  \n",
       "3                  9.11  \n",
       "4                  8.97  "
      ]
     },
     "execution_count": 379,
     "metadata": {},
     "output_type": "execute_result"
    }
   ],
   "source": [
    "yearly_rev_df.head(3)"
   ]
  },
  {
   "cell_type": "code",
   "execution_count": 380,
   "metadata": {},
   "outputs": [
    {
     "data": {
      "image/png": "[encoded data removed]",
      "text/plain": [
       "<Figure size 432x288 with 1 Axes>"
      ]
     },
     "metadata": {
      "needs_background": "light"
     },
     "output_type": "display_data"
    }
   ],
   "source": [
    "yearly_rev_df.plot('Year', 'Total Box Office', kind='line'); #Quick view of domestic box office for past 25 years"
   ]
  },
  {
   "cell_type": "code",
   "execution_count": 381,
   "metadata": {},
   "outputs": [
    {
     "data": {
      "image/png": "[encoded data removed]",
      "text/plain": [
       "<Figure size 432x288 with 1 Axes>"
      ]
     },
     "metadata": {
      "needs_background": "light"
     },
     "output_type": "display_data"
    }
   ],
   "source": [
    "yearly_rev_df.plot('Year', 'Inflation Adjusted Box Office', kind='line'); #Looked pretty good, what if we adjust for inflation"
   ]
  },
  {
   "cell_type": "markdown",
   "metadata": {},
   "source": [
    "This is a very telling graph for the movie industry. While yearly gross has been going up fairly steadily it has not been keeping pace with inflation. It seems like domestic (USA) might not be the most recommended entry point into the market. Note however, that this is domestic box office. "
   ]
  },
  {
   "cell_type": "markdown",
   "metadata": {},
   "source": [
    "Since we don't want to enter the domestic box office due to declining revenues what are the competing choices?"
   ]
  },
  {
   "cell_type": "code",
   "execution_count": 441,
   "metadata": {},
   "outputs": [],
   "source": [
    "observer_investment = pd.read_csv('observer_stream_investment.csv') #getting a picture of where the streaming industry is right now"
   ]
  },
  {
   "cell_type": "code",
   "execution_count": 445,
   "metadata": {},
   "outputs": [
    {
     "data": {
      "image/png": "[encoded data removed]",
      "text/plain": [
       "<Figure size 432x288 with 1 Axes>"
      ]
     },
     "metadata": {
      "needs_background": "light"
     },
     "output_type": "display_data"
    }
   ],
   "source": [
    "observer_investment.plot(kind='bar', title='2019 Streaming Investment in Billions of Dollars');#data from The Observer"
   ]
  },
  {
   "attachments": {},
   "cell_type": "markdown",
   "metadata": {},
   "source": [
    "Streaming seems like a much safer investment, especially considering the current worldwide pandemic and the reliance on \"at home\" entertainment. After a look into the state of online streaming it seems that Netflix, Amazon, Apple, HBO and Hulu/Disney(Hulu is owned by Disney) agree and are investing heavily into this industry.\n",
    "\n",
    "\n",
    "Looking at Netflix as an example of immediately available growth as well as a roadmap to future growth for Microsoft seems, pretty clear. Microsoft already has a fledgling streaming service offered by their xbox streaming platform as well as global reach to computers via their Windows platform.\n",
    "\n",
    "So to answer both aspects of our first question. Microsoft should move into streaming and focus on a worldwide audience instead of focusing on only the local market.\n"
   ]
  },
  {
   "cell_type": "markdown",
   "metadata": {},
   "source": [
    "**Question 2: At what financial level should Microsoft make features for the international market?**"
   ]
  },
  {
   "cell_type": "markdown",
   "metadata": {},
   "source": [
    "Even though we want to move into streaming instead of general box office, vastly more data exists about production budgets and box office gross than is available about streaming services. So let's look at some movie data sets over time and see what movies make the most money."
   ]
  },
  {
   "cell_type": "code",
   "execution_count": 456,
   "metadata": {},
   "outputs": [],
   "source": [
    "tn_movie_budgets = pd.read_csv('zippedData/tn.movie_budgets.csv.gz') #the numbers has a fairly comprehensive list of movies"
   ]
  },
  {
   "cell_type": "code",
   "execution_count": 448,
   "metadata": {},
   "outputs": [
    {
     "data": {
      "text/html": [
       "<div>\n",
       "<style scoped>\n",
       "    .dataframe tbody tr th:only-of-type {\n",
       "        vertical-align: middle;\n",
       "    }\n",
       "\n",
       "    .dataframe tbody tr th {\n",
       "        vertical-align: top;\n",
       "    }\n",
       "\n",
       "    .dataframe thead th {\n",
       "        text-align: right;\n",
       "    }\n",
       "</style>\n",
       "<table border=\"1\" class=\"dataframe\">\n",
       "  <thead>\n",
       "    <tr style=\"text-align: right;\">\n",
       "      <th></th>\n",
       "      <th>id</th>\n",
       "      <th>release_date</th>\n",
       "      <th>movie</th>\n",
       "      <th>production_budget</th>\n",
       "      <th>domestic_gross</th>\n",
       "      <th>worldwide_gross</th>\n",
       "    </tr>\n",
       "  </thead>\n",
       "  <tbody>\n",
       "    <tr>\n",
       "      <td>0</td>\n",
       "      <td>1</td>\n",
       "      <td>Dec 18, 2009</td>\n",
       "      <td>Avatar</td>\n",
       "      <td>$425,000,000</td>\n",
       "      <td>$760,507,625</td>\n",
       "      <td>$2,776,345,279</td>\n",
       "    </tr>\n",
       "    <tr>\n",
       "      <td>1</td>\n",
       "      <td>2</td>\n",
       "      <td>May 20, 2011</td>\n",
       "      <td>Pirates of the Caribbean: On Stranger Tides</td>\n",
       "      <td>$410,600,000</td>\n",
       "      <td>$241,063,875</td>\n",
       "      <td>$1,045,663,875</td>\n",
       "    </tr>\n",
       "    <tr>\n",
       "      <td>2</td>\n",
       "      <td>3</td>\n",
       "      <td>Jun 7, 2019</td>\n",
       "      <td>Dark Phoenix</td>\n",
       "      <td>$350,000,000</td>\n",
       "      <td>$42,762,350</td>\n",
       "      <td>$149,762,350</td>\n",
       "    </tr>\n",
       "  </tbody>\n",
       "</table>\n",
       "</div>"
      ],
      "text/plain": [
       "   id  release_date                                        movie  \\\n",
       "0   1  Dec 18, 2009                                       Avatar   \n",
       "1   2  May 20, 2011  Pirates of the Caribbean: On Stranger Tides   \n",
       "2   3   Jun 7, 2019                                 Dark Phoenix   \n",
       "\n",
       "  production_budget domestic_gross worldwide_gross  \n",
       "0      $425,000,000   $760,507,625  $2,776,345,279  \n",
       "1      $410,600,000   $241,063,875  $1,045,663,875  \n",
       "2      $350,000,000    $42,762,350    $149,762,350  "
      ]
     },
     "execution_count": 448,
     "metadata": {},
     "output_type": "execute_result"
    }
   ],
   "source": [
    "tn_movie_budgets.head(3) #this has useful data because it can show us what range of investment has the best amount of payoff."
   ]
  },
  {
   "cell_type": "code",
   "execution_count": 450,
   "metadata": {},
   "outputs": [
    {
     "name": "stdout",
     "output_type": "stream",
     "text": [
      "<class 'pandas.core.frame.DataFrame'>\n",
      "RangeIndex: 5782 entries, 0 to 5781\n",
      "Data columns (total 6 columns):\n",
      "id                   5782 non-null int64\n",
      "release_date         5782 non-null object\n",
      "movie                5782 non-null object\n",
      "production_budget    5782 non-null object\n",
      "domestic_gross       5782 non-null object\n",
      "worldwide_gross      5782 non-null object\n",
      "dtypes: int64(1), object(5)\n",
      "memory usage: 271.2+ KB\n"
     ]
    }
   ],
   "source": [
    "tn_movie_budgets.info()#we also have near 6k different movies so a fairly complete list. Let's clean it up a bit and see what we find."
   ]
  },
  {
   "cell_type": "code",
   "execution_count": 457,
   "metadata": {},
   "outputs": [],
   "source": [
    "tn_movie_budgets[tn_movie_budgets.columns[3:]] = tn_movie_budgets[tn_movie_budgets.columns[3:]].apply(lambda x: x.str.replace('$','')).apply(lambda x: x.str.replace(',','')).astype(np.int64)\n",
    "#first we need to convert the data into int64 so we can manipulate it more easily"
   ]
  },
  {
   "cell_type": "code",
   "execution_count": 452,
   "metadata": {},
   "outputs": [
    {
     "data": {
      "text/html": [
       "<div>\n",
       "<style scoped>\n",
       "    .dataframe tbody tr th:only-of-type {\n",
       "        vertical-align: middle;\n",
       "    }\n",
       "\n",
       "    .dataframe tbody tr th {\n",
       "        vertical-align: top;\n",
       "    }\n",
       "\n",
       "    .dataframe thead th {\n",
       "        text-align: right;\n",
       "    }\n",
       "</style>\n",
       "<table border=\"1\" class=\"dataframe\">\n",
       "  <thead>\n",
       "    <tr style=\"text-align: right;\">\n",
       "      <th></th>\n",
       "      <th>id</th>\n",
       "      <th>release_date</th>\n",
       "      <th>movie</th>\n",
       "      <th>production_budget</th>\n",
       "      <th>domestic_gross</th>\n",
       "      <th>worldwide_gross</th>\n",
       "    </tr>\n",
       "  </thead>\n",
       "  <tbody>\n",
       "    <tr>\n",
       "      <td>0</td>\n",
       "      <td>1</td>\n",
       "      <td>Dec 18, 2009</td>\n",
       "      <td>Avatar</td>\n",
       "      <td>425000000</td>\n",
       "      <td>760507625</td>\n",
       "      <td>2776345279</td>\n",
       "    </tr>\n",
       "    <tr>\n",
       "      <td>1</td>\n",
       "      <td>2</td>\n",
       "      <td>May 20, 2011</td>\n",
       "      <td>Pirates of the Caribbean: On Stranger Tides</td>\n",
       "      <td>410600000</td>\n",
       "      <td>241063875</td>\n",
       "      <td>1045663875</td>\n",
       "    </tr>\n",
       "    <tr>\n",
       "      <td>2</td>\n",
       "      <td>3</td>\n",
       "      <td>Jun 7, 2019</td>\n",
       "      <td>Dark Phoenix</td>\n",
       "      <td>350000000</td>\n",
       "      <td>42762350</td>\n",
       "      <td>149762350</td>\n",
       "    </tr>\n",
       "    <tr>\n",
       "      <td>3</td>\n",
       "      <td>4</td>\n",
       "      <td>May 1, 2015</td>\n",
       "      <td>Avengers: Age of Ultron</td>\n",
       "      <td>330600000</td>\n",
       "      <td>459005868</td>\n",
       "      <td>1403013963</td>\n",
       "    </tr>\n",
       "    <tr>\n",
       "      <td>4</td>\n",
       "      <td>5</td>\n",
       "      <td>Dec 15, 2017</td>\n",
       "      <td>Star Wars Ep. VIII: The Last Jedi</td>\n",
       "      <td>317000000</td>\n",
       "      <td>620181382</td>\n",
       "      <td>1316721747</td>\n",
       "    </tr>\n",
       "  </tbody>\n",
       "</table>\n",
       "</div>"
      ],
      "text/plain": [
       "   id  release_date                                        movie  \\\n",
       "0   1  Dec 18, 2009                                       Avatar   \n",
       "1   2  May 20, 2011  Pirates of the Caribbean: On Stranger Tides   \n",
       "2   3   Jun 7, 2019                                 Dark Phoenix   \n",
       "3   4   May 1, 2015                      Avengers: Age of Ultron   \n",
       "4   5  Dec 15, 2017            Star Wars Ep. VIII: The Last Jedi   \n",
       "\n",
       "   production_budget  domestic_gross  worldwide_gross  \n",
       "0          425000000       760507625       2776345279  \n",
       "1          410600000       241063875       1045663875  \n",
       "2          350000000        42762350        149762350  \n",
       "3          330600000       459005868       1403013963  \n",
       "4          317000000       620181382       1316721747  "
      ]
     },
     "execution_count": 452,
     "metadata": {},
     "output_type": "execute_result"
    }
   ],
   "source": [
    "tn_movie_budgets.head()"
   ]
  },
  {
   "cell_type": "code",
   "execution_count": 458,
   "metadata": {},
   "outputs": [
    {
     "data": {
      "image/png": "[encoded data removed]",
      "text/plain": [
       "<Figure size 432x288 with 1 Axes>"
      ]
     },
     "metadata": {
      "needs_background": "light"
     },
     "output_type": "display_data"
    }
   ],
   "source": [
    "tn_movie_budgets.plot('production_budget', 'worldwide_gross', kind='scatter'); #let's see how production budget relates to worldwide gross."
   ]
  },
  {
   "cell_type": "markdown",
   "metadata": {},
   "source": [
    "well that's a lot, and difficult to draw any specific recommendations from. Next we'll try to eliminate the influence\n",
    "of inflation on these numbers as this data set includes movies from as far back as 1970 and those will invariably have much smaller production budgets as well as box office gross."
   ]
  },
  {
   "cell_type": "code",
   "execution_count": 459,
   "metadata": {},
   "outputs": [],
   "source": [
    "tn_movie_budgets['percentage_gain'] = (tn_movie_budgets['worldwide_gross'] / tn_movie_budgets['production_budget'])\n",
    "#created new column percenage gain which divided the worldwide gross by the production budget. A return of 1 would mean a movie made back it's budget."
   ]
  },
  {
   "cell_type": "code",
   "execution_count": 461,
   "metadata": {},
   "outputs": [
    {
     "data": {
      "image/png": "[encoded data removed]",
      "text/plain": [
       "<Figure size 432x288 with 1 Axes>"
      ]
     },
     "metadata": {
      "needs_background": "light"
     },
     "output_type": "display_data"
    }
   ],
   "source": [
    "tn_movie_budgets.plot('production_budget', 'percentage_gain', kind='scatter', title='Percentage Gain of Original Production Budget'); #this graph shows that some outliers are significantly impacting the ability to see the data"
   ]
  },
  {
   "cell_type": "code",
   "execution_count": 463,
   "metadata": {},
   "outputs": [
    {
     "data": {
      "text/plain": [
       "5782"
      ]
     },
     "execution_count": 463,
     "metadata": {},
     "output_type": "execute_result"
    }
   ],
   "source": [
    "len(tn_movie_budgets) #How much data are we looking at?"
   ]
  },
  {
   "cell_type": "code",
   "execution_count": 466,
   "metadata": {},
   "outputs": [],
   "source": [
    "tn_movie_budgets.sort_values(by='percentage_gain', ascending=False, inplace=True) #let's sort the data to get a better idea of the outliers"
   ]
  },
  {
   "cell_type": "code",
   "execution_count": 467,
   "metadata": {},
   "outputs": [
    {
     "data": {
      "text/html": [
       "<div>\n",
       "<style scoped>\n",
       "    .dataframe tbody tr th:only-of-type {\n",
       "        vertical-align: middle;\n",
       "    }\n",
       "\n",
       "    .dataframe tbody tr th {\n",
       "        vertical-align: top;\n",
       "    }\n",
       "\n",
       "    .dataframe thead th {\n",
       "        text-align: right;\n",
       "    }\n",
       "</style>\n",
       "<table border=\"1\" class=\"dataframe\">\n",
       "  <thead>\n",
       "    <tr style=\"text-align: right;\">\n",
       "      <th></th>\n",
       "      <th>id</th>\n",
       "      <th>release_date</th>\n",
       "      <th>movie</th>\n",
       "      <th>production_budget</th>\n",
       "      <th>domestic_gross</th>\n",
       "      <th>worldwide_gross</th>\n",
       "      <th>percentage_gain</th>\n",
       "    </tr>\n",
       "  </thead>\n",
       "  <tbody>\n",
       "    <tr>\n",
       "      <td>5745</td>\n",
       "      <td>46</td>\n",
       "      <td>Jun 30, 1972</td>\n",
       "      <td>Deep Throat</td>\n",
       "      <td>25000</td>\n",
       "      <td>45000000</td>\n",
       "      <td>45000000</td>\n",
       "      <td>1800.000000</td>\n",
       "    </tr>\n",
       "    <tr>\n",
       "      <td>5613</td>\n",
       "      <td>14</td>\n",
       "      <td>Mar 21, 1980</td>\n",
       "      <td>Mad Max</td>\n",
       "      <td>200000</td>\n",
       "      <td>8750000</td>\n",
       "      <td>99750000</td>\n",
       "      <td>498.750000</td>\n",
       "    </tr>\n",
       "    <tr>\n",
       "      <td>5492</td>\n",
       "      <td>93</td>\n",
       "      <td>Sep 25, 2009</td>\n",
       "      <td>Paranormal Activity</td>\n",
       "      <td>450000</td>\n",
       "      <td>107918810</td>\n",
       "      <td>194183034</td>\n",
       "      <td>431.517853</td>\n",
       "    </tr>\n",
       "    <tr>\n",
       "      <td>5679</td>\n",
       "      <td>80</td>\n",
       "      <td>Jul 10, 2015</td>\n",
       "      <td>The Gallows</td>\n",
       "      <td>100000</td>\n",
       "      <td>22764410</td>\n",
       "      <td>41656474</td>\n",
       "      <td>416.564740</td>\n",
       "    </tr>\n",
       "    <tr>\n",
       "      <td>5406</td>\n",
       "      <td>7</td>\n",
       "      <td>Jul 14, 1999</td>\n",
       "      <td>The Blair Witch Project</td>\n",
       "      <td>600000</td>\n",
       "      <td>140539099</td>\n",
       "      <td>248300000</td>\n",
       "      <td>413.833333</td>\n",
       "    </tr>\n",
       "    <tr>\n",
       "      <td>...</td>\n",
       "      <td>...</td>\n",
       "      <td>...</td>\n",
       "      <td>...</td>\n",
       "      <td>...</td>\n",
       "      <td>...</td>\n",
       "      <td>...</td>\n",
       "      <td>...</td>\n",
       "    </tr>\n",
       "    <tr>\n",
       "      <td>4848</td>\n",
       "      <td>49</td>\n",
       "      <td>Sep 2, 2016</td>\n",
       "      <td>Antibirth</td>\n",
       "      <td>2500000</td>\n",
       "      <td>0</td>\n",
       "      <td>0</td>\n",
       "      <td>0.000000</td>\n",
       "    </tr>\n",
       "    <tr>\n",
       "      <td>4849</td>\n",
       "      <td>50</td>\n",
       "      <td>Feb 2, 2016</td>\n",
       "      <td>The Rise of the Krays</td>\n",
       "      <td>2500000</td>\n",
       "      <td>0</td>\n",
       "      <td>0</td>\n",
       "      <td>0.000000</td>\n",
       "    </tr>\n",
       "    <tr>\n",
       "      <td>4989</td>\n",
       "      <td>90</td>\n",
       "      <td>Feb 8, 2013</td>\n",
       "      <td>Small Apartments</td>\n",
       "      <td>2000000</td>\n",
       "      <td>0</td>\n",
       "      <td>0</td>\n",
       "      <td>0.000000</td>\n",
       "    </tr>\n",
       "    <tr>\n",
       "      <td>4988</td>\n",
       "      <td>89</td>\n",
       "      <td>Dec 31, 2012</td>\n",
       "      <td>Highway</td>\n",
       "      <td>2000000</td>\n",
       "      <td>0</td>\n",
       "      <td>0</td>\n",
       "      <td>0.000000</td>\n",
       "    </tr>\n",
       "    <tr>\n",
       "      <td>4982</td>\n",
       "      <td>83</td>\n",
       "      <td>Oct 14, 2008</td>\n",
       "      <td>No Man's Land: The Rise of Reeker</td>\n",
       "      <td>2000000</td>\n",
       "      <td>0</td>\n",
       "      <td>0</td>\n",
       "      <td>0.000000</td>\n",
       "    </tr>\n",
       "  </tbody>\n",
       "</table>\n",
       "<p>5782 rows × 7 columns</p>\n",
       "</div>"
      ],
      "text/plain": [
       "      id  release_date                              movie  production_budget  \\\n",
       "5745  46  Jun 30, 1972                        Deep Throat              25000   \n",
       "5613  14  Mar 21, 1980                            Mad Max             200000   \n",
       "5492  93  Sep 25, 2009                Paranormal Activity             450000   \n",
       "5679  80  Jul 10, 2015                        The Gallows             100000   \n",
       "5406   7  Jul 14, 1999            The Blair Witch Project             600000   \n",
       "...   ..           ...                                ...                ...   \n",
       "4848  49   Sep 2, 2016                          Antibirth            2500000   \n",
       "4849  50   Feb 2, 2016              The Rise of the Krays            2500000   \n",
       "4989  90   Feb 8, 2013                   Small Apartments            2000000   \n",
       "4988  89  Dec 31, 2012                            Highway            2000000   \n",
       "4982  83  Oct 14, 2008  No Man's Land: The Rise of Reeker            2000000   \n",
       "\n",
       "      domestic_gross  worldwide_gross  percentage_gain  \n",
       "5745        45000000         45000000      1800.000000  \n",
       "5613         8750000         99750000       498.750000  \n",
       "5492       107918810        194183034       431.517853  \n",
       "5679        22764410         41656474       416.564740  \n",
       "5406       140539099        248300000       413.833333  \n",
       "...              ...              ...              ...  \n",
       "4848               0                0         0.000000  \n",
       "4849               0                0         0.000000  \n",
       "4989               0                0         0.000000  \n",
       "4988               0                0         0.000000  \n",
       "4982               0                0         0.000000  \n",
       "\n",
       "[5782 rows x 7 columns]"
      ]
     },
     "execution_count": 467,
     "metadata": {},
     "output_type": "execute_result"
    }
   ],
   "source": [
    "tn_movie_budgets # looks like there are some null values clogging up the graphing"
   ]
  },
  {
   "cell_type": "code",
   "execution_count": 468,
   "metadata": {},
   "outputs": [
    {
     "data": {
      "text/plain": [
       "0            367\n",
       "8000000        9\n",
       "2000000        6\n",
       "7000000        6\n",
       "11000000       4\n",
       "            ... \n",
       "47158652       1\n",
       "29197694       1\n",
       "166000000      1\n",
       "42843521       1\n",
       "12996          1\n",
       "Name: worldwide_gross, Length: 5356, dtype: int64"
      ]
     },
     "execution_count": 468,
     "metadata": {},
     "output_type": "execute_result"
    }
   ],
   "source": [
    "tn_movie_budgets['worldwide_gross'].value_counts() #luckily there are not too many null values"
   ]
  },
  {
   "cell_type": "code",
   "execution_count": 470,
   "metadata": {},
   "outputs": [],
   "source": [
    "no_ww_gross = tn_movie_budgets[tn_movie_budgets['worldwide_gross'] == 0].index    \n",
    "tn_movie_budgets.drop(no_ww_gross , inplace=True)# Delete these row indexes from dataFrame"
   ]
  },
  {
   "cell_type": "code",
   "execution_count": 471,
   "metadata": {
    "scrolled": true
   },
   "outputs": [
    {
     "data": {
      "text/plain": [
       "8000000      9\n",
       "2000000      6\n",
       "7000000      6\n",
       "11000000     4\n",
       "4000000      4\n",
       "            ..\n",
       "47158652     1\n",
       "29197694     1\n",
       "166000000    1\n",
       "42843521     1\n",
       "104267443    1\n",
       "Name: worldwide_gross, Length: 5355, dtype: int64"
      ]
     },
     "execution_count": 471,
     "metadata": {},
     "output_type": "execute_result"
    }
   ],
   "source": [
    "tn_movie_budgets['worldwide_gross'].value_counts() # all clear"
   ]
  },
  {
   "cell_type": "code",
   "execution_count": 476,
   "metadata": {},
   "outputs": [
    {
     "data": {
      "image/png": "[encoded data removed]",
      "text/plain": [
       "<Figure size 432x288 with 1 Axes>"
      ]
     },
     "metadata": {
      "needs_background": "light"
     },
     "output_type": "display_data"
    }
   ],
   "source": [
    "tn_movie_budgets.plot('production_budget', 'percentage_gain', kind='scatter', title='Percentage Gain of Original Production Budget');\n",
    "#not much better, but we can see that the extreme outliers on the far side of the production budget don't have a vastly higher percent gain."
   ]
  },
  {
   "cell_type": "markdown",
   "metadata": {},
   "source": [
    "Because Microsoft is just entering the market I think we can safely exclude the film budgets of \\\\$200 million or more as well as the film budgets of \\\\$20 million or less as with current budgets and adjusting for inflation \\\\$20 million is on the low end of film budgets currently."
   ]
  },
  {
   "cell_type": "code",
   "execution_count": 479,
   "metadata": {},
   "outputs": [],
   "source": [
    "over_200 = tn_movie_budgets[tn_movie_budgets['production_budget'] > 200000000].index   \n",
    "# Delete the rows from the dataframe with over $200,000,000 budgets \n",
    "tn_movie_budgets.drop(over_200 , inplace=True)"
   ]
  },
  {
   "cell_type": "code",
   "execution_count": 480,
   "metadata": {},
   "outputs": [],
   "source": [
    "under_20 = tn_movie_budgets[tn_movie_budgets['production_budget'] < 20000000].index\n",
    "# Delete the rows from the dateframe with under $20,000,000 budgets\n",
    "tn_movie_budgets.drop(under_20, inplace=True)"
   ]
  },
  {
   "cell_type": "code",
   "execution_count": 482,
   "metadata": {},
   "outputs": [
    {
     "data": {
      "image/png": "[encoded data removed]",
      "text/plain": [
       "<Figure size 432x288 with 1 Axes>"
      ]
     },
     "metadata": {
      "needs_background": "light"
     },
     "output_type": "display_data"
    }
   ],
   "source": [
    "tn_movie_budgets.plot('production_budget', 'percentage_gain', kind='scatter', title='Percentage Gain of Original Production Budget');"
   ]
  },
  {
   "cell_type": "markdown",
   "metadata": {},
   "source": [
    "This is a much more usefull graph visually. There is a definite trend of less percentage gain as you increase production budget toward \\\\$200 Million. Because Microsoft would be just beginning in this space and because the focus is on targeting an international audience, I would recommend that Microsoft targets relatively lower budget films in \\\\$20 - \\\\$50 million range."
   ]
  },
  {
   "cell_type": "code",
   "execution_count": 483,
   "metadata": {},
   "outputs": [
    {
     "data": {
      "text/html": [
       "<div>\n",
       "<style scoped>\n",
       "    .dataframe tbody tr th:only-of-type {\n",
       "        vertical-align: middle;\n",
       "    }\n",
       "\n",
       "    .dataframe tbody tr th {\n",
       "        vertical-align: top;\n",
       "    }\n",
       "\n",
       "    .dataframe thead th {\n",
       "        text-align: right;\n",
       "    }\n",
       "</style>\n",
       "<table border=\"1\" class=\"dataframe\">\n",
       "  <thead>\n",
       "    <tr style=\"text-align: right;\">\n",
       "      <th></th>\n",
       "      <th>id</th>\n",
       "      <th>production_budget</th>\n",
       "      <th>domestic_gross</th>\n",
       "      <th>worldwide_gross</th>\n",
       "      <th>percentage_gain</th>\n",
       "    </tr>\n",
       "  </thead>\n",
       "  <tbody>\n",
       "    <tr>\n",
       "      <td>count</td>\n",
       "      <td>2646.000000</td>\n",
       "      <td>2.646000e+03</td>\n",
       "      <td>2.646000e+03</td>\n",
       "      <td>2.646000e+03</td>\n",
       "      <td>2646.000000</td>\n",
       "    </tr>\n",
       "    <tr>\n",
       "      <td>mean</td>\n",
       "      <td>50.834089</td>\n",
       "      <td>5.655848e+07</td>\n",
       "      <td>6.945582e+07</td>\n",
       "      <td>1.566480e+08</td>\n",
       "      <td>2.654057</td>\n",
       "    </tr>\n",
       "    <tr>\n",
       "      <td>std</td>\n",
       "      <td>28.922530</td>\n",
       "      <td>3.991962e+07</td>\n",
       "      <td>7.649003e+07</td>\n",
       "      <td>1.985017e+08</td>\n",
       "      <td>2.698864</td>\n",
       "    </tr>\n",
       "    <tr>\n",
       "      <td>min</td>\n",
       "      <td>1.000000</td>\n",
       "      <td>2.000000e+07</td>\n",
       "      <td>0.000000e+00</td>\n",
       "      <td>5.000000e+03</td>\n",
       "      <td>0.000192</td>\n",
       "    </tr>\n",
       "    <tr>\n",
       "      <td>25%</td>\n",
       "      <td>26.000000</td>\n",
       "      <td>2.800000e+07</td>\n",
       "      <td>2.009335e+07</td>\n",
       "      <td>3.538998e+07</td>\n",
       "      <td>0.940518</td>\n",
       "    </tr>\n",
       "    <tr>\n",
       "      <td>50%</td>\n",
       "      <td>51.000000</td>\n",
       "      <td>4.000000e+07</td>\n",
       "      <td>4.549819e+07</td>\n",
       "      <td>8.713433e+07</td>\n",
       "      <td>1.931246</td>\n",
       "    </tr>\n",
       "    <tr>\n",
       "      <td>75%</td>\n",
       "      <td>76.000000</td>\n",
       "      <td>7.000000e+07</td>\n",
       "      <td>8.974746e+07</td>\n",
       "      <td>1.961465e+08</td>\n",
       "      <td>3.422282</td>\n",
       "    </tr>\n",
       "    <tr>\n",
       "      <td>max</td>\n",
       "      <td>100.000000</td>\n",
       "      <td>2.000000e+08</td>\n",
       "      <td>7.000596e+08</td>\n",
       "      <td>2.208208e+09</td>\n",
       "      <td>30.421557</td>\n",
       "    </tr>\n",
       "  </tbody>\n",
       "</table>\n",
       "</div>"
      ],
      "text/plain": [
       "                id  production_budget  domestic_gross  worldwide_gross  \\\n",
       "count  2646.000000       2.646000e+03    2.646000e+03     2.646000e+03   \n",
       "mean     50.834089       5.655848e+07    6.945582e+07     1.566480e+08   \n",
       "std      28.922530       3.991962e+07    7.649003e+07     1.985017e+08   \n",
       "min       1.000000       2.000000e+07    0.000000e+00     5.000000e+03   \n",
       "25%      26.000000       2.800000e+07    2.009335e+07     3.538998e+07   \n",
       "50%      51.000000       4.000000e+07    4.549819e+07     8.713433e+07   \n",
       "75%      76.000000       7.000000e+07    8.974746e+07     1.961465e+08   \n",
       "max     100.000000       2.000000e+08    7.000596e+08     2.208208e+09   \n",
       "\n",
       "       percentage_gain  \n",
       "count      2646.000000  \n",
       "mean          2.654057  \n",
       "std           2.698864  \n",
       "min           0.000192  \n",
       "25%           0.940518  \n",
       "50%           1.931246  \n",
       "75%           3.422282  \n",
       "max          30.421557  "
      ]
     },
     "execution_count": 483,
     "metadata": {},
     "output_type": "execute_result"
    }
   ],
   "source": [
    "tn_movie_budgets.describe()"
   ]
  },
  {
   "cell_type": "markdown",
   "metadata": {},
   "source": [
    "**Question 3: What kinds of features should Microsoft make in the \\\\$20 - \\\\$50 million range?**"
   ]
  },
  {
   "cell_type": "markdown",
   "metadata": {},
   "source": [
    "Here I first attempted to use the IMDB dataset provided as it contained a huge amount of films in the data set."
   ]
  },
  {
   "cell_type": "code",
   "execution_count": 484,
   "metadata": {},
   "outputs": [],
   "source": [
    "imdbtb = pd.read_csv('zippedData/imdb.title.basics.csv.gz')"
   ]
  },
  {
   "cell_type": "code",
   "execution_count": 485,
   "metadata": {},
   "outputs": [
    {
     "data": {
      "text/plain": [
       "146144"
      ]
     },
     "execution_count": 485,
     "metadata": {},
     "output_type": "execute_result"
    }
   ],
   "source": [
    "len(imdbtb) #lots of movies"
   ]
  },
  {
   "cell_type": "code",
   "execution_count": 486,
   "metadata": {},
   "outputs": [
    {
     "data": {
      "text/html": [
       "<div>\n",
       "<style scoped>\n",
       "    .dataframe tbody tr th:only-of-type {\n",
       "        vertical-align: middle;\n",
       "    }\n",
       "\n",
       "    .dataframe tbody tr th {\n",
       "        vertical-align: top;\n",
       "    }\n",
       "\n",
       "    .dataframe thead th {\n",
       "        text-align: right;\n",
       "    }\n",
       "</style>\n",
       "<table border=\"1\" class=\"dataframe\">\n",
       "  <thead>\n",
       "    <tr style=\"text-align: right;\">\n",
       "      <th></th>\n",
       "      <th>tconst</th>\n",
       "      <th>primary_title</th>\n",
       "      <th>original_title</th>\n",
       "      <th>start_year</th>\n",
       "      <th>runtime_minutes</th>\n",
       "      <th>genres</th>\n",
       "    </tr>\n",
       "  </thead>\n",
       "  <tbody>\n",
       "    <tr>\n",
       "      <td>0</td>\n",
       "      <td>tt0063540</td>\n",
       "      <td>Sunghursh</td>\n",
       "      <td>Sunghursh</td>\n",
       "      <td>2013</td>\n",
       "      <td>175.0</td>\n",
       "      <td>Action,Crime,Drama</td>\n",
       "    </tr>\n",
       "    <tr>\n",
       "      <td>1</td>\n",
       "      <td>tt0066787</td>\n",
       "      <td>One Day Before the Rainy Season</td>\n",
       "      <td>Ashad Ka Ek Din</td>\n",
       "      <td>2019</td>\n",
       "      <td>114.0</td>\n",
       "      <td>Biography,Drama</td>\n",
       "    </tr>\n",
       "    <tr>\n",
       "      <td>2</td>\n",
       "      <td>tt0069049</td>\n",
       "      <td>The Other Side of the Wind</td>\n",
       "      <td>The Other Side of the Wind</td>\n",
       "      <td>2018</td>\n",
       "      <td>122.0</td>\n",
       "      <td>Drama</td>\n",
       "    </tr>\n",
       "    <tr>\n",
       "      <td>3</td>\n",
       "      <td>tt0069204</td>\n",
       "      <td>Sabse Bada Sukh</td>\n",
       "      <td>Sabse Bada Sukh</td>\n",
       "      <td>2018</td>\n",
       "      <td>NaN</td>\n",
       "      <td>Comedy,Drama</td>\n",
       "    </tr>\n",
       "    <tr>\n",
       "      <td>4</td>\n",
       "      <td>tt0100275</td>\n",
       "      <td>The Wandering Soap Opera</td>\n",
       "      <td>La Telenovela Errante</td>\n",
       "      <td>2017</td>\n",
       "      <td>80.0</td>\n",
       "      <td>Comedy,Drama,Fantasy</td>\n",
       "    </tr>\n",
       "  </tbody>\n",
       "</table>\n",
       "</div>"
      ],
      "text/plain": [
       "      tconst                    primary_title              original_title  \\\n",
       "0  tt0063540                        Sunghursh                   Sunghursh   \n",
       "1  tt0066787  One Day Before the Rainy Season             Ashad Ka Ek Din   \n",
       "2  tt0069049       The Other Side of the Wind  The Other Side of the Wind   \n",
       "3  tt0069204                  Sabse Bada Sukh             Sabse Bada Sukh   \n",
       "4  tt0100275         The Wandering Soap Opera       La Telenovela Errante   \n",
       "\n",
       "   start_year  runtime_minutes                genres  \n",
       "0        2013            175.0    Action,Crime,Drama  \n",
       "1        2019            114.0       Biography,Drama  \n",
       "2        2018            122.0                 Drama  \n",
       "3        2018              NaN          Comedy,Drama  \n",
       "4        2017             80.0  Comedy,Drama,Fantasy  "
      ]
     },
     "execution_count": 486,
     "metadata": {},
     "output_type": "execute_result"
    }
   ],
   "source": [
    "imdbtb.head() #unfortunately the data for genres contains the ability for each movie to have multiple different genres"
   ]
  },
  {
   "cell_type": "code",
   "execution_count": 487,
   "metadata": {},
   "outputs": [
    {
     "data": {
      "text/plain": [
       "1085"
      ]
     },
     "execution_count": 487,
     "metadata": {},
     "output_type": "execute_result"
    }
   ],
   "source": [
    "imdbtb['genres'].nunique() #each combination of genres is classed as a unique genre..."
   ]
  },
  {
   "cell_type": "code",
   "execution_count": 488,
   "metadata": {},
   "outputs": [],
   "source": [
    "genre_list = imdbtb['genres'] #creating a list of all those genres in order to split"
   ]
  },
  {
   "cell_type": "code",
   "execution_count": 489,
   "metadata": {},
   "outputs": [
    {
     "data": {
      "text/plain": [
       "234958"
      ]
     },
     "execution_count": 489,
     "metadata": {},
     "output_type": "execute_result"
    }
   ],
   "source": [
    "split_genre_list = []  #splitting the list\n",
    "for item in genre_list:\n",
    "    item = str(item).split(',')\n",
    "    split_genre_list += item\n",
    "    \n",
    "len(split_genre_list)"
   ]
  },
  {
   "cell_type": "code",
   "execution_count": 490,
   "metadata": {},
   "outputs": [],
   "source": [
    "unique_genres = set(split_genre_list) #Getting the total amount of genres"
   ]
  },
  {
   "cell_type": "code",
   "execution_count": 491,
   "metadata": {},
   "outputs": [
    {
     "data": {
      "text/plain": [
       "{'Music': 4314,\n",
       " 'Short': 11,\n",
       " 'Drama': 49883,\n",
       " 'Sci-Fi': 3365,\n",
       " 'Romance': 9372,\n",
       " 'Adult': 25,\n",
       " 'Reality-TV': 98,\n",
       " 'Talk-Show': 50,\n",
       " 'Western': 467,\n",
       " 'Thriller': 11883,\n",
       " 'Biography': 8722,\n",
       " 'Horror': 10805,\n",
       " 'Fantasy': 3516,\n",
       " 'nan': 5408,\n",
       " 'Action': 10335,\n",
       " 'News': 1551,\n",
       " 'Adventure': 6465,\n",
       " 'Documentary': 51640,\n",
       " 'Crime': 6753,\n",
       " 'Game-Show': 4,\n",
       " 'Comedy': 25312,\n",
       " 'Family': 6227,\n",
       " 'Mystery': 4659,\n",
       " 'Sport': 2234,\n",
       " 'War': 1405,\n",
       " 'Musical': 1430,\n",
       " 'Animation': 2799,\n",
       " 'History': 6225}"
      ]
     },
     "execution_count": 491,
     "metadata": {},
     "output_type": "execute_result"
    }
   ],
   "source": [
    "genre_dict = {} #Counting the instances of each genre in the list\n",
    "for genre in unique_genres:\n",
    "    genre_dict[genre] = split_genre_list.count(genre)\n",
    "genre_dict"
   ]
  },
  {
   "cell_type": "markdown",
   "metadata": {},
   "source": [
    "Yay! We have a dictionary of the number of times each genre occurs."
   ]
  },
  {
   "cell_type": "code",
   "execution_count": 492,
   "metadata": {},
   "outputs": [],
   "source": [
    "sorted_genres = {keys: values for keys, values in sorted(genre_dict.items(), key = lambda item: item[1], reverse = True)}\n",
    "#sorted most to least"
   ]
  },
  {
   "cell_type": "code",
   "execution_count": 494,
   "metadata": {},
   "outputs": [
    {
     "data": {
      "text/plain": [
       "{'Documentary': 51640,\n",
       " 'Drama': 49883,\n",
       " 'Comedy': 25312,\n",
       " 'Thriller': 11883,\n",
       " 'Horror': 10805,\n",
       " 'Action': 10335,\n",
       " 'Romance': 9372,\n",
       " 'Biography': 8722,\n",
       " 'Crime': 6753,\n",
       " 'Adventure': 6465,\n",
       " 'Family': 6227,\n",
       " 'History': 6225,\n",
       " 'nan': 5408,\n",
       " 'Mystery': 4659,\n",
       " 'Music': 4314,\n",
       " 'Fantasy': 3516,\n",
       " 'Sci-Fi': 3365,\n",
       " 'Animation': 2799,\n",
       " 'Sport': 2234,\n",
       " 'News': 1551,\n",
       " 'Musical': 1430,\n",
       " 'War': 1405,\n",
       " 'Western': 467,\n",
       " 'Reality-TV': 98,\n",
       " 'Talk-Show': 50,\n",
       " 'Adult': 25,\n",
       " 'Short': 11,\n",
       " 'Game-Show': 4}"
      ]
     },
     "execution_count": 494,
     "metadata": {},
     "output_type": "execute_result"
    }
   ],
   "source": [
    "sorted_genres"
   ]
  },
  {
   "cell_type": "code",
   "execution_count": 495,
   "metadata": {},
   "outputs": [],
   "source": [
    "sorted_genres_df = pd.DataFrame.from_dict(sorted_genres, orient='index') #making the dict into a df"
   ]
  },
  {
   "cell_type": "code",
   "execution_count": 496,
   "metadata": {},
   "outputs": [],
   "source": [
    "sorted_genres_df = sorted_genres_df.rename(columns={0: \"Number of Movies\"}) #fixing some titles"
   ]
  },
  {
   "cell_type": "code",
   "execution_count": 497,
   "metadata": {},
   "outputs": [
    {
     "data": {
      "text/plain": [
       "<matplotlib.axes._subplots.AxesSubplot at 0x1a3ec7a5f8>"
      ]
     },
     "execution_count": 497,
     "metadata": {},
     "output_type": "execute_result"
    },
    {
     "data": {
      "image/png": "[encoded data removed]",
      "text/plain": [
       "<Figure size 432x288 with 1 Axes>"
      ]
     },
     "metadata": {
      "needs_background": "light"
     },
     "output_type": "display_data"
    }
   ],
   "source": [
    "sorted_genres_df.plot(kind='bar') "
   ]
  },
  {
   "cell_type": "markdown",
   "metadata": {},
   "source": [
    "Well, this definitely gives a result, but probably not what we're looking for. Because, the high number of documentaries does not mean they are the most profitible. Also, the fact that a movie can have many different genres means that catch all categories are obviously going to have more entries. Drama can really be a catch-all, therfore it is no suprise it comes in as the second most films.\n",
    "Maybe we'll have more luck with less unwieldy data."
   ]
  },
  {
   "cell_type": "code",
   "execution_count": 498,
   "metadata": {},
   "outputs": [],
   "source": [
    "opus_data = pd.read_csv('OpusMovieData.csv') #this is a near 2000 movie dataset from Opus Media, who make \"The Numbers\" website.\n"
   ]
  },
  {
   "cell_type": "code",
   "execution_count": 500,
   "metadata": {},
   "outputs": [
    {
     "data": {
      "text/html": [
       "<div>\n",
       "<style scoped>\n",
       "    .dataframe tbody tr th:only-of-type {\n",
       "        vertical-align: middle;\n",
       "    }\n",
       "\n",
       "    .dataframe tbody tr th {\n",
       "        vertical-align: top;\n",
       "    }\n",
       "\n",
       "    .dataframe thead th {\n",
       "        text-align: right;\n",
       "    }\n",
       "</style>\n",
       "<table border=\"1\" class=\"dataframe\">\n",
       "  <thead>\n",
       "    <tr style=\"text-align: right;\">\n",
       "      <th></th>\n",
       "      <th>movie_name</th>\n",
       "      <th>production_year</th>\n",
       "      <th>movie_odid</th>\n",
       "      <th>production_budget</th>\n",
       "      <th>domestic_box_office</th>\n",
       "      <th>international_box_office</th>\n",
       "      <th>rating</th>\n",
       "      <th>creative_type</th>\n",
       "      <th>source</th>\n",
       "      <th>production_method</th>\n",
       "      <th>genre</th>\n",
       "      <th>sequel</th>\n",
       "      <th>running_time</th>\n",
       "    </tr>\n",
       "  </thead>\n",
       "  <tbody>\n",
       "    <tr>\n",
       "      <td>0</td>\n",
       "      <td>Madea's Family Reunion</td>\n",
       "      <td>2006</td>\n",
       "      <td>8220100</td>\n",
       "      <td>10000000</td>\n",
       "      <td>63257940</td>\n",
       "      <td>62581</td>\n",
       "      <td>PG-13</td>\n",
       "      <td>Contemporary Fiction</td>\n",
       "      <td>Based on Play</td>\n",
       "      <td>Live Action</td>\n",
       "      <td>Comedy</td>\n",
       "      <td>1.0</td>\n",
       "      <td>NaN</td>\n",
       "    </tr>\n",
       "    <tr>\n",
       "      <td>1</td>\n",
       "      <td>Krrish</td>\n",
       "      <td>2006</td>\n",
       "      <td>58540100</td>\n",
       "      <td>10000000</td>\n",
       "      <td>1430721</td>\n",
       "      <td>31000000</td>\n",
       "      <td>Not Rated</td>\n",
       "      <td>Science Fiction</td>\n",
       "      <td>Original Screenplay</td>\n",
       "      <td>Live Action</td>\n",
       "      <td>Action</td>\n",
       "      <td>1.0</td>\n",
       "      <td>NaN</td>\n",
       "    </tr>\n",
       "    <tr>\n",
       "      <td>2</td>\n",
       "      <td>End of the Spear</td>\n",
       "      <td>2006</td>\n",
       "      <td>34620100</td>\n",
       "      <td>10000000</td>\n",
       "      <td>11748661</td>\n",
       "      <td>175380</td>\n",
       "      <td>PG-13</td>\n",
       "      <td>Historical Fiction</td>\n",
       "      <td>Original Screenplay</td>\n",
       "      <td>Live Action</td>\n",
       "      <td>Drama</td>\n",
       "      <td>0.0</td>\n",
       "      <td>NaN</td>\n",
       "    </tr>\n",
       "    <tr>\n",
       "      <td>3</td>\n",
       "      <td>A Prairie Home Companion</td>\n",
       "      <td>2006</td>\n",
       "      <td>24910100</td>\n",
       "      <td>10000000</td>\n",
       "      <td>20342852</td>\n",
       "      <td>6373339</td>\n",
       "      <td>PG-13</td>\n",
       "      <td>Contemporary Fiction</td>\n",
       "      <td>Original Screenplay</td>\n",
       "      <td>Live Action</td>\n",
       "      <td>Comedy</td>\n",
       "      <td>0.0</td>\n",
       "      <td>105.0</td>\n",
       "    </tr>\n",
       "    <tr>\n",
       "      <td>4</td>\n",
       "      <td>Saw III</td>\n",
       "      <td>2006</td>\n",
       "      <td>5840100</td>\n",
       "      <td>10000000</td>\n",
       "      <td>80238724</td>\n",
       "      <td>83638091</td>\n",
       "      <td>R</td>\n",
       "      <td>Contemporary Fiction</td>\n",
       "      <td>Original Screenplay</td>\n",
       "      <td>Live Action</td>\n",
       "      <td>Horror</td>\n",
       "      <td>1.0</td>\n",
       "      <td>NaN</td>\n",
       "    </tr>\n",
       "  </tbody>\n",
       "</table>\n",
       "</div>"
      ],
      "text/plain": [
       "                 movie_name  production_year  movie_odid  production_budget  \\\n",
       "0    Madea's Family Reunion             2006     8220100           10000000   \n",
       "1                    Krrish             2006    58540100           10000000   \n",
       "2          End of the Spear             2006    34620100           10000000   \n",
       "3  A Prairie Home Companion             2006    24910100           10000000   \n",
       "4                   Saw III             2006     5840100           10000000   \n",
       "\n",
       "   domestic_box_office  international_box_office     rating  \\\n",
       "0             63257940                     62581      PG-13   \n",
       "1              1430721                  31000000  Not Rated   \n",
       "2             11748661                    175380      PG-13   \n",
       "3             20342852                   6373339      PG-13   \n",
       "4             80238724                  83638091          R   \n",
       "\n",
       "          creative_type               source production_method   genre  \\\n",
       "0  Contemporary Fiction        Based on Play       Live Action  Comedy   \n",
       "1       Science Fiction  Original Screenplay       Live Action  Action   \n",
       "2    Historical Fiction  Original Screenplay       Live Action   Drama   \n",
       "3  Contemporary Fiction  Original Screenplay       Live Action  Comedy   \n",
       "4  Contemporary Fiction  Original Screenplay       Live Action  Horror   \n",
       "\n",
       "   sequel  running_time  \n",
       "0     1.0           NaN  \n",
       "1     1.0           NaN  \n",
       "2     0.0           NaN  \n",
       "3     0.0         105.0  \n",
       "4     1.0           NaN  "
      ]
     },
     "execution_count": 500,
     "metadata": {},
     "output_type": "execute_result"
    }
   ],
   "source": [
    "opus_data.head() #This is great, we have more accessible genres as well as internation, domestic and production budget."
   ]
  },
  {
   "cell_type": "code",
   "execution_count": 501,
   "metadata": {},
   "outputs": [],
   "source": [
    "opus_data['total_box_office'] = (opus_data['domestic_box_office'] + opus_data['international_box_office']) #adding a worldwide box office"
   ]
  },
  {
   "cell_type": "code",
   "execution_count": 503,
   "metadata": {},
   "outputs": [],
   "source": [
    "opus_data['percentage_gain'] = (opus_data['total_box_office'] / opus_data['production_budget']) #creating percentage gain again to adjust for inflation"
   ]
  },
  {
   "cell_type": "code",
   "execution_count": 504,
   "metadata": {},
   "outputs": [
    {
     "data": {
      "text/html": [
       "<div>\n",
       "<style scoped>\n",
       "    .dataframe tbody tr th:only-of-type {\n",
       "        vertical-align: middle;\n",
       "    }\n",
       "\n",
       "    .dataframe tbody tr th {\n",
       "        vertical-align: top;\n",
       "    }\n",
       "\n",
       "    .dataframe thead th {\n",
       "        text-align: right;\n",
       "    }\n",
       "</style>\n",
       "<table border=\"1\" class=\"dataframe\">\n",
       "  <thead>\n",
       "    <tr style=\"text-align: right;\">\n",
       "      <th></th>\n",
       "      <th>movie_name</th>\n",
       "      <th>production_year</th>\n",
       "      <th>movie_odid</th>\n",
       "      <th>production_budget</th>\n",
       "      <th>domestic_box_office</th>\n",
       "      <th>international_box_office</th>\n",
       "      <th>rating</th>\n",
       "      <th>creative_type</th>\n",
       "      <th>source</th>\n",
       "      <th>production_method</th>\n",
       "      <th>genre</th>\n",
       "      <th>sequel</th>\n",
       "      <th>running_time</th>\n",
       "      <th>total_box_office</th>\n",
       "      <th>percentage_gain</th>\n",
       "    </tr>\n",
       "  </thead>\n",
       "  <tbody>\n",
       "    <tr>\n",
       "      <td>0</td>\n",
       "      <td>Madea's Family Reunion</td>\n",
       "      <td>2006</td>\n",
       "      <td>8220100</td>\n",
       "      <td>10000000</td>\n",
       "      <td>63257940</td>\n",
       "      <td>62581</td>\n",
       "      <td>PG-13</td>\n",
       "      <td>Contemporary Fiction</td>\n",
       "      <td>Based on Play</td>\n",
       "      <td>Live Action</td>\n",
       "      <td>Comedy</td>\n",
       "      <td>1.0</td>\n",
       "      <td>NaN</td>\n",
       "      <td>63320521</td>\n",
       "      <td>6.332052</td>\n",
       "    </tr>\n",
       "    <tr>\n",
       "      <td>1</td>\n",
       "      <td>Krrish</td>\n",
       "      <td>2006</td>\n",
       "      <td>58540100</td>\n",
       "      <td>10000000</td>\n",
       "      <td>1430721</td>\n",
       "      <td>31000000</td>\n",
       "      <td>Not Rated</td>\n",
       "      <td>Science Fiction</td>\n",
       "      <td>Original Screenplay</td>\n",
       "      <td>Live Action</td>\n",
       "      <td>Action</td>\n",
       "      <td>1.0</td>\n",
       "      <td>NaN</td>\n",
       "      <td>32430721</td>\n",
       "      <td>3.243072</td>\n",
       "    </tr>\n",
       "    <tr>\n",
       "      <td>2</td>\n",
       "      <td>End of the Spear</td>\n",
       "      <td>2006</td>\n",
       "      <td>34620100</td>\n",
       "      <td>10000000</td>\n",
       "      <td>11748661</td>\n",
       "      <td>175380</td>\n",
       "      <td>PG-13</td>\n",
       "      <td>Historical Fiction</td>\n",
       "      <td>Original Screenplay</td>\n",
       "      <td>Live Action</td>\n",
       "      <td>Drama</td>\n",
       "      <td>0.0</td>\n",
       "      <td>NaN</td>\n",
       "      <td>11924041</td>\n",
       "      <td>1.192404</td>\n",
       "    </tr>\n",
       "    <tr>\n",
       "      <td>3</td>\n",
       "      <td>A Prairie Home Companion</td>\n",
       "      <td>2006</td>\n",
       "      <td>24910100</td>\n",
       "      <td>10000000</td>\n",
       "      <td>20342852</td>\n",
       "      <td>6373339</td>\n",
       "      <td>PG-13</td>\n",
       "      <td>Contemporary Fiction</td>\n",
       "      <td>Original Screenplay</td>\n",
       "      <td>Live Action</td>\n",
       "      <td>Comedy</td>\n",
       "      <td>0.0</td>\n",
       "      <td>105.0</td>\n",
       "      <td>26716191</td>\n",
       "      <td>2.671619</td>\n",
       "    </tr>\n",
       "    <tr>\n",
       "      <td>4</td>\n",
       "      <td>Saw III</td>\n",
       "      <td>2006</td>\n",
       "      <td>5840100</td>\n",
       "      <td>10000000</td>\n",
       "      <td>80238724</td>\n",
       "      <td>83638091</td>\n",
       "      <td>R</td>\n",
       "      <td>Contemporary Fiction</td>\n",
       "      <td>Original Screenplay</td>\n",
       "      <td>Live Action</td>\n",
       "      <td>Horror</td>\n",
       "      <td>1.0</td>\n",
       "      <td>NaN</td>\n",
       "      <td>163876815</td>\n",
       "      <td>16.387681</td>\n",
       "    </tr>\n",
       "  </tbody>\n",
       "</table>\n",
       "</div>"
      ],
      "text/plain": [
       "                 movie_name  production_year  movie_odid  production_budget  \\\n",
       "0    Madea's Family Reunion             2006     8220100           10000000   \n",
       "1                    Krrish             2006    58540100           10000000   \n",
       "2          End of the Spear             2006    34620100           10000000   \n",
       "3  A Prairie Home Companion             2006    24910100           10000000   \n",
       "4                   Saw III             2006     5840100           10000000   \n",
       "\n",
       "   domestic_box_office  international_box_office     rating  \\\n",
       "0             63257940                     62581      PG-13   \n",
       "1              1430721                  31000000  Not Rated   \n",
       "2             11748661                    175380      PG-13   \n",
       "3             20342852                   6373339      PG-13   \n",
       "4             80238724                  83638091          R   \n",
       "\n",
       "          creative_type               source production_method   genre  \\\n",
       "0  Contemporary Fiction        Based on Play       Live Action  Comedy   \n",
       "1       Science Fiction  Original Screenplay       Live Action  Action   \n",
       "2    Historical Fiction  Original Screenplay       Live Action   Drama   \n",
       "3  Contemporary Fiction  Original Screenplay       Live Action  Comedy   \n",
       "4  Contemporary Fiction  Original Screenplay       Live Action  Horror   \n",
       "\n",
       "   sequel  running_time  total_box_office  percentage_gain  \n",
       "0     1.0           NaN          63320521         6.332052  \n",
       "1     1.0           NaN          32430721         3.243072  \n",
       "2     0.0           NaN          11924041         1.192404  \n",
       "3     0.0         105.0          26716191         2.671619  \n",
       "4     1.0           NaN         163876815        16.387681  "
      ]
     },
     "execution_count": 504,
     "metadata": {},
     "output_type": "execute_result"
    }
   ],
   "source": [
    "opus_data.head()"
   ]
  },
  {
   "cell_type": "code",
   "execution_count": 507,
   "metadata": {},
   "outputs": [
    {
     "data": {
      "text/html": [
       "<div>\n",
       "<style scoped>\n",
       "    .dataframe tbody tr th:only-of-type {\n",
       "        vertical-align: middle;\n",
       "    }\n",
       "\n",
       "    .dataframe tbody tr th {\n",
       "        vertical-align: top;\n",
       "    }\n",
       "\n",
       "    .dataframe thead th {\n",
       "        text-align: right;\n",
       "    }\n",
       "</style>\n",
       "<table border=\"1\" class=\"dataframe\">\n",
       "  <thead>\n",
       "    <tr style=\"text-align: right;\">\n",
       "      <th></th>\n",
       "      <th>movie_name</th>\n",
       "      <th>production_year</th>\n",
       "      <th>movie_odid</th>\n",
       "      <th>production_budget</th>\n",
       "      <th>domestic_box_office</th>\n",
       "      <th>international_box_office</th>\n",
       "      <th>rating</th>\n",
       "      <th>creative_type</th>\n",
       "      <th>source</th>\n",
       "      <th>production_method</th>\n",
       "      <th>genre</th>\n",
       "      <th>sequel</th>\n",
       "      <th>running_time</th>\n",
       "      <th>total_box_office</th>\n",
       "      <th>percentage_gain</th>\n",
       "    </tr>\n",
       "  </thead>\n",
       "  <tbody>\n",
       "    <tr>\n",
       "      <td>931</td>\n",
       "      <td>Les Intouchables</td>\n",
       "      <td>2011</td>\n",
       "      <td>164220100</td>\n",
       "      <td>10800000</td>\n",
       "      <td>13182281</td>\n",
       "      <td>471690764</td>\n",
       "      <td>R</td>\n",
       "      <td>Contemporary Fiction</td>\n",
       "      <td>Original Screenplay</td>\n",
       "      <td>Live Action</td>\n",
       "      <td>Comedy</td>\n",
       "      <td>0.0</td>\n",
       "      <td>110.0</td>\n",
       "      <td>484873045</td>\n",
       "      <td>44.895652</td>\n",
       "    </tr>\n",
       "    <tr>\n",
       "      <td>733</td>\n",
       "      <td>The King’s Speech</td>\n",
       "      <td>2010</td>\n",
       "      <td>143880100</td>\n",
       "      <td>15000000</td>\n",
       "      <td>138797449</td>\n",
       "      <td>292023719</td>\n",
       "      <td>R</td>\n",
       "      <td>Dramatization</td>\n",
       "      <td>Original Screenplay</td>\n",
       "      <td>Live Action</td>\n",
       "      <td>Drama</td>\n",
       "      <td>0.0</td>\n",
       "      <td>118.0</td>\n",
       "      <td>430821168</td>\n",
       "      <td>28.721411</td>\n",
       "    </tr>\n",
       "    <tr>\n",
       "      <td>338</td>\n",
       "      <td>Slumdog Millionaire</td>\n",
       "      <td>2008</td>\n",
       "      <td>2110100</td>\n",
       "      <td>14000000</td>\n",
       "      <td>141330703</td>\n",
       "      <td>243199737</td>\n",
       "      <td>R</td>\n",
       "      <td>Contemporary Fiction</td>\n",
       "      <td>Original Screenplay</td>\n",
       "      <td>Live Action</td>\n",
       "      <td>Drama</td>\n",
       "      <td>0.0</td>\n",
       "      <td>116.0</td>\n",
       "      <td>384530440</td>\n",
       "      <td>27.466460</td>\n",
       "    </tr>\n",
       "  </tbody>\n",
       "</table>\n",
       "</div>"
      ],
      "text/plain": [
       "              movie_name  production_year  movie_odid  production_budget  \\\n",
       "931     Les Intouchables             2011   164220100           10800000   \n",
       "733    The King’s Speech             2010   143880100           15000000   \n",
       "338  Slumdog Millionaire             2008     2110100           14000000   \n",
       "\n",
       "     domestic_box_office  international_box_office rating  \\\n",
       "931             13182281                 471690764      R   \n",
       "733            138797449                 292023719      R   \n",
       "338            141330703                 243199737      R   \n",
       "\n",
       "            creative_type               source production_method   genre  \\\n",
       "931  Contemporary Fiction  Original Screenplay       Live Action  Comedy   \n",
       "733         Dramatization  Original Screenplay       Live Action   Drama   \n",
       "338  Contemporary Fiction  Original Screenplay       Live Action   Drama   \n",
       "\n",
       "     sequel  running_time  total_box_office  percentage_gain  \n",
       "931     0.0         110.0         484873045        44.895652  \n",
       "733     0.0         118.0         430821168        28.721411  \n",
       "338     0.0         116.0         384530440        27.466460  "
      ]
     },
     "execution_count": 507,
     "metadata": {},
     "output_type": "execute_result"
    }
   ],
   "source": [
    "opus_data.sort_values(by='percentage_gain', ascending=False, inplace=True)\n",
    "opus_data.head(3) #sorting by percentage gain"
   ]
  },
  {
   "cell_type": "code",
   "execution_count": 508,
   "metadata": {},
   "outputs": [
    {
     "data": {
      "text/html": [
       "<div>\n",
       "<style scoped>\n",
       "    .dataframe tbody tr th:only-of-type {\n",
       "        vertical-align: middle;\n",
       "    }\n",
       "\n",
       "    .dataframe tbody tr th {\n",
       "        vertical-align: top;\n",
       "    }\n",
       "\n",
       "    .dataframe thead th {\n",
       "        text-align: right;\n",
       "    }\n",
       "</style>\n",
       "<table border=\"1\" class=\"dataframe\">\n",
       "  <thead>\n",
       "    <tr style=\"text-align: right;\">\n",
       "      <th></th>\n",
       "      <th>production_year</th>\n",
       "      <th>movie_odid</th>\n",
       "      <th>production_budget</th>\n",
       "      <th>domestic_box_office</th>\n",
       "      <th>international_box_office</th>\n",
       "      <th>sequel</th>\n",
       "      <th>running_time</th>\n",
       "      <th>total_box_office</th>\n",
       "      <th>percentage_gain</th>\n",
       "    </tr>\n",
       "    <tr>\n",
       "      <th>genre</th>\n",
       "      <th></th>\n",
       "      <th></th>\n",
       "      <th></th>\n",
       "      <th></th>\n",
       "      <th></th>\n",
       "      <th></th>\n",
       "      <th></th>\n",
       "      <th></th>\n",
       "      <th></th>\n",
       "    </tr>\n",
       "  </thead>\n",
       "  <tbody>\n",
       "    <tr>\n",
       "      <td>Action</td>\n",
       "      <td>2011.926045</td>\n",
       "      <td>1.434299e+08</td>\n",
       "      <td>8.818135e+07</td>\n",
       "      <td>9.684900e+07</td>\n",
       "      <td>1.832826e+08</td>\n",
       "      <td>0.309677</td>\n",
       "      <td>115.287162</td>\n",
       "      <td>2.801316e+08</td>\n",
       "      <td>2.678257</td>\n",
       "    </tr>\n",
       "    <tr>\n",
       "      <td>Adventure</td>\n",
       "      <td>2011.610778</td>\n",
       "      <td>1.325259e+08</td>\n",
       "      <td>9.606168e+07</td>\n",
       "      <td>1.126963e+08</td>\n",
       "      <td>1.930141e+08</td>\n",
       "      <td>0.267267</td>\n",
       "      <td>101.851852</td>\n",
       "      <td>3.057104e+08</td>\n",
       "      <td>3.000477</td>\n",
       "    </tr>\n",
       "    <tr>\n",
       "      <td>Black Comedy</td>\n",
       "      <td>2012.125000</td>\n",
       "      <td>1.647518e+08</td>\n",
       "      <td>3.275000e+07</td>\n",
       "      <td>3.651481e+07</td>\n",
       "      <td>4.467123e+07</td>\n",
       "      <td>0.000000</td>\n",
       "      <td>112.952381</td>\n",
       "      <td>8.118604e+07</td>\n",
       "      <td>2.617288</td>\n",
       "    </tr>\n",
       "    <tr>\n",
       "      <td>Comedy</td>\n",
       "      <td>2010.955975</td>\n",
       "      <td>1.263926e+08</td>\n",
       "      <td>3.275189e+07</td>\n",
       "      <td>5.051509e+07</td>\n",
       "      <td>3.803244e+07</td>\n",
       "      <td>0.116352</td>\n",
       "      <td>102.525253</td>\n",
       "      <td>8.854753e+07</td>\n",
       "      <td>2.937406</td>\n",
       "    </tr>\n",
       "    <tr>\n",
       "      <td>Concert/Performance</td>\n",
       "      <td>2012.000000</td>\n",
       "      <td>1.595568e+08</td>\n",
       "      <td>1.300000e+07</td>\n",
       "      <td>2.785387e+07</td>\n",
       "      <td>1.533291e+07</td>\n",
       "      <td>0.000000</td>\n",
       "      <td>94.333333</td>\n",
       "      <td>4.318678e+07</td>\n",
       "      <td>3.634271</td>\n",
       "    </tr>\n",
       "    <tr>\n",
       "      <td>Documentary</td>\n",
       "      <td>2009.200000</td>\n",
       "      <td>1.177141e+08</td>\n",
       "      <td>4.380000e+07</td>\n",
       "      <td>2.757766e+07</td>\n",
       "      <td>6.770103e+07</td>\n",
       "      <td>0.000000</td>\n",
       "      <td>84.200000</td>\n",
       "      <td>9.527869e+07</td>\n",
       "      <td>1.772396</td>\n",
       "    </tr>\n",
       "    <tr>\n",
       "      <td>Drama</td>\n",
       "      <td>2011.000000</td>\n",
       "      <td>1.372221e+08</td>\n",
       "      <td>3.104639e+07</td>\n",
       "      <td>3.561566e+07</td>\n",
       "      <td>4.124104e+07</td>\n",
       "      <td>0.044586</td>\n",
       "      <td>116.626728</td>\n",
       "      <td>7.685670e+07</td>\n",
       "      <td>2.508959</td>\n",
       "    </tr>\n",
       "    <tr>\n",
       "      <td>Horror</td>\n",
       "      <td>2010.692308</td>\n",
       "      <td>1.217080e+08</td>\n",
       "      <td>2.630337e+07</td>\n",
       "      <td>4.535191e+07</td>\n",
       "      <td>5.138038e+07</td>\n",
       "      <td>0.307692</td>\n",
       "      <td>100.641304</td>\n",
       "      <td>9.673229e+07</td>\n",
       "      <td>4.751474</td>\n",
       "    </tr>\n",
       "    <tr>\n",
       "      <td>Musical</td>\n",
       "      <td>2011.360000</td>\n",
       "      <td>1.257697e+08</td>\n",
       "      <td>7.728800e+07</td>\n",
       "      <td>1.235329e+08</td>\n",
       "      <td>2.011386e+08</td>\n",
       "      <td>0.080000</td>\n",
       "      <td>116.826087</td>\n",
       "      <td>3.246715e+08</td>\n",
       "      <td>4.890253</td>\n",
       "    </tr>\n",
       "    <tr>\n",
       "      <td>Romantic Comedy</td>\n",
       "      <td>2010.268293</td>\n",
       "      <td>1.122475e+08</td>\n",
       "      <td>3.307951e+07</td>\n",
       "      <td>4.589736e+07</td>\n",
       "      <td>5.492061e+07</td>\n",
       "      <td>0.024390</td>\n",
       "      <td>107.737500</td>\n",
       "      <td>1.008180e+08</td>\n",
       "      <td>3.021808</td>\n",
       "    </tr>\n",
       "    <tr>\n",
       "      <td>Thriller/Suspense</td>\n",
       "      <td>2011.415584</td>\n",
       "      <td>1.387568e+08</td>\n",
       "      <td>4.065801e+07</td>\n",
       "      <td>4.525016e+07</td>\n",
       "      <td>6.156746e+07</td>\n",
       "      <td>0.064935</td>\n",
       "      <td>111.796460</td>\n",
       "      <td>1.068176e+08</td>\n",
       "      <td>2.524733</td>\n",
       "    </tr>\n",
       "    <tr>\n",
       "      <td>Western</td>\n",
       "      <td>2012.066667</td>\n",
       "      <td>1.631601e+08</td>\n",
       "      <td>5.920000e+07</td>\n",
       "      <td>4.927270e+07</td>\n",
       "      <td>5.660842e+07</td>\n",
       "      <td>0.066667</td>\n",
       "      <td>122.933333</td>\n",
       "      <td>1.058811e+08</td>\n",
       "      <td>1.796430</td>\n",
       "    </tr>\n",
       "  </tbody>\n",
       "</table>\n",
       "</div>"
      ],
      "text/plain": [
       "                     production_year    movie_odid  production_budget  \\\n",
       "genre                                                                   \n",
       "Action                   2011.926045  1.434299e+08       8.818135e+07   \n",
       "Adventure                2011.610778  1.325259e+08       9.606168e+07   \n",
       "Black Comedy             2012.125000  1.647518e+08       3.275000e+07   \n",
       "Comedy                   2010.955975  1.263926e+08       3.275189e+07   \n",
       "Concert/Performance      2012.000000  1.595568e+08       1.300000e+07   \n",
       "Documentary              2009.200000  1.177141e+08       4.380000e+07   \n",
       "Drama                    2011.000000  1.372221e+08       3.104639e+07   \n",
       "Horror                   2010.692308  1.217080e+08       2.630337e+07   \n",
       "Musical                  2011.360000  1.257697e+08       7.728800e+07   \n",
       "Romantic Comedy          2010.268293  1.122475e+08       3.307951e+07   \n",
       "Thriller/Suspense        2011.415584  1.387568e+08       4.065801e+07   \n",
       "Western                  2012.066667  1.631601e+08       5.920000e+07   \n",
       "\n",
       "                     domestic_box_office  international_box_office    sequel  \\\n",
       "genre                                                                          \n",
       "Action                      9.684900e+07              1.832826e+08  0.309677   \n",
       "Adventure                   1.126963e+08              1.930141e+08  0.267267   \n",
       "Black Comedy                3.651481e+07              4.467123e+07  0.000000   \n",
       "Comedy                      5.051509e+07              3.803244e+07  0.116352   \n",
       "Concert/Performance         2.785387e+07              1.533291e+07  0.000000   \n",
       "Documentary                 2.757766e+07              6.770103e+07  0.000000   \n",
       "Drama                       3.561566e+07              4.124104e+07  0.044586   \n",
       "Horror                      4.535191e+07              5.138038e+07  0.307692   \n",
       "Musical                     1.235329e+08              2.011386e+08  0.080000   \n",
       "Romantic Comedy             4.589736e+07              5.492061e+07  0.024390   \n",
       "Thriller/Suspense           4.525016e+07              6.156746e+07  0.064935   \n",
       "Western                     4.927270e+07              5.660842e+07  0.066667   \n",
       "\n",
       "                     running_time  total_box_office  percentage_gain  \n",
       "genre                                                                 \n",
       "Action                 115.287162      2.801316e+08         2.678257  \n",
       "Adventure              101.851852      3.057104e+08         3.000477  \n",
       "Black Comedy           112.952381      8.118604e+07         2.617288  \n",
       "Comedy                 102.525253      8.854753e+07         2.937406  \n",
       "Concert/Performance     94.333333      4.318678e+07         3.634271  \n",
       "Documentary             84.200000      9.527869e+07         1.772396  \n",
       "Drama                  116.626728      7.685670e+07         2.508959  \n",
       "Horror                 100.641304      9.673229e+07         4.751474  \n",
       "Musical                116.826087      3.246715e+08         4.890253  \n",
       "Romantic Comedy        107.737500      1.008180e+08         3.021808  \n",
       "Thriller/Suspense      111.796460      1.068176e+08         2.524733  \n",
       "Western                122.933333      1.058811e+08         1.796430  "
      ]
     },
     "execution_count": 508,
     "metadata": {},
     "output_type": "execute_result"
    }
   ],
   "source": [
    "opus_data_for_graph = opus_data.groupby('genre').mean()\n",
    "opus_data_for_graph #using groupby to look for which genres are the best investment"
   ]
  },
  {
   "cell_type": "code",
   "execution_count": 513,
   "metadata": {
    "scrolled": false
   },
   "outputs": [
    {
     "data": {
      "image/png": "[encoded data removed]",
      "text/plain": [
       "<Figure size 432x288 with 1 Axes>"
      ]
     },
     "metadata": {
      "needs_background": "light"
     },
     "output_type": "display_data"
    }
   ],
   "source": [
    "opus_data_for_graph.reset_index().plot('genre', 'percentage_gain', kind='bar');\n",
    "#look at average percent gain by genre"
   ]
  },
  {
   "cell_type": "code",
   "execution_count": 512,
   "metadata": {},
   "outputs": [
    {
     "data": {
      "image/png": "[encoded data removed]",
      "text/plain": [
       "<Figure size 432x288 with 1 Axes>"
      ]
     },
     "metadata": {
      "needs_background": "light"
     },
     "output_type": "display_data"
    }
   ],
   "source": [
    "opus_data_for_graph.reset_index().plot('genre', 'production_budget', kind='bar'); #comparing that with production budget by genre"
   ]
  },
  {
   "cell_type": "markdown",
   "metadata": {},
   "source": [
    "This analysis shows that the horror genre is the big winner in that it is the second highest mean percent gain, while also being the second lowest for mean production budget. Concert/Performance was also suprisingly viable with the third highest percent gain as well as the absolute lowest production budget mean. Both romantic comedy and general comedy were tied for a 3rd place finish as they were the 4th highest percentage gain, while having the third lowest production budget. In the end, Microsoft should focus on an international streaming audience. They should shoot for movie production budgets in the \\\\$20-\\\\$50 million range for production budget and they should make those films in the Horror, Concert/Performance and Comedy(Romantic as well) genres."
   ]
  }
 ],
 "metadata": {
  "kernelspec": {
   "display_name": "Python 3",
   "language": "python",
   "name": "python3"
  },
  "language_info": {
   "codemirror_mode": {
    "name": "ipython",
    "version": 3
   },
   "file_extension": ".py",
   "mimetype": "text/x-python",
   "name": "python",
   "nbconvert_exporter": "python",
   "pygments_lexer": "ipython3",
   "version": "3.6.9"
  }
 },
 "nbformat": 4,
 "nbformat_minor": 2
}
